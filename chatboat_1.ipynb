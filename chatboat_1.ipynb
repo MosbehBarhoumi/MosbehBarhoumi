{
  "nbformat": 4,
  "nbformat_minor": 0,
  "metadata": {
    "colab": {
      "name": "chatboat_1.ipynb",
      "provenance": [],
      "authorship_tag": "ABX9TyOkHt05M87Ei7uY2BtXwEpZ",
      "include_colab_link": true
    },
    "kernelspec": {
      "name": "python3",
      "display_name": "Python 3"
    },
    "language_info": {
      "name": "python"
    }
  },
  "cells": [
    {
      "cell_type": "markdown",
      "metadata": {
        "id": "view-in-github",
        "colab_type": "text"
      },
      "source": [
        "<a href=\"https://colab.research.google.com/github/MosbehBarhoumi/MosbehBarhoumi/blob/main/chatboat_1.ipynb\" target=\"_parent\"><img src=\"https://colab.research.google.com/assets/colab-badge.svg\" alt=\"Open In Colab\"/></a>"
      ]
    },
    {
      "cell_type": "code",
      "execution_count": 1,
      "metadata": {
        "colab": {
          "base_uri": "https://localhost:8080/"
        },
        "id": "ttEnQQdJo2fe",
        "outputId": "bdd8a09c-8435-4764-addc-3c76394419ed"
      },
      "outputs": [
        {
          "output_type": "stream",
          "name": "stdout",
          "text": [
            "Looking in indexes: https://pypi.org/simple, https://us-python.pkg.dev/colab-wheels/public/simple/\n",
            "Requirement already satisfied: nltk in /usr/local/lib/python3.7/dist-packages (3.7)\n",
            "Requirement already satisfied: tqdm in /usr/local/lib/python3.7/dist-packages (from nltk) (4.64.0)\n",
            "Requirement already satisfied: regex>=2021.8.3 in /usr/local/lib/python3.7/dist-packages (from nltk) (2022.6.2)\n",
            "Requirement already satisfied: joblib in /usr/local/lib/python3.7/dist-packages (from nltk) (1.1.0)\n",
            "Requirement already satisfied: click in /usr/local/lib/python3.7/dist-packages (from nltk) (7.1.2)\n"
          ]
        }
      ],
      "source": [
        "pip install nltk"
      ]
    },
    {
      "cell_type": "code",
      "source": [
        "pip install newspaper3k\n"
      ],
      "metadata": {
        "colab": {
          "base_uri": "https://localhost:8080/"
        },
        "id": "9HgZqmKnpFSg",
        "outputId": "c4d2b818-0202-43bb-ff17-9405c9d6403f"
      },
      "execution_count": 2,
      "outputs": [
        {
          "output_type": "stream",
          "name": "stdout",
          "text": [
            "Looking in indexes: https://pypi.org/simple, https://us-python.pkg.dev/colab-wheels/public/simple/\n",
            "Collecting newspaper3k\n",
            "  Downloading newspaper3k-0.2.8-py3-none-any.whl (211 kB)\n",
            "\u001b[K     |████████████████████████████████| 211 kB 5.2 MB/s \n",
            "\u001b[?25hCollecting feedparser>=5.2.1\n",
            "  Downloading feedparser-6.0.10-py3-none-any.whl (81 kB)\n",
            "\u001b[K     |████████████████████████████████| 81 kB 9.6 MB/s \n",
            "\u001b[?25hRequirement already satisfied: nltk>=3.2.1 in /usr/local/lib/python3.7/dist-packages (from newspaper3k) (3.7)\n",
            "Collecting feedfinder2>=0.0.4\n",
            "  Downloading feedfinder2-0.0.4.tar.gz (3.3 kB)\n",
            "Collecting tldextract>=2.0.1\n",
            "  Downloading tldextract-3.3.0-py3-none-any.whl (93 kB)\n",
            "\u001b[K     |████████████████████████████████| 93 kB 1.9 MB/s \n",
            "\u001b[?25hCollecting tinysegmenter==0.3\n",
            "  Downloading tinysegmenter-0.3.tar.gz (16 kB)\n",
            "Requirement already satisfied: beautifulsoup4>=4.4.1 in /usr/local/lib/python3.7/dist-packages (from newspaper3k) (4.6.3)\n",
            "Requirement already satisfied: python-dateutil>=2.5.3 in /usr/local/lib/python3.7/dist-packages (from newspaper3k) (2.8.2)\n",
            "Requirement already satisfied: PyYAML>=3.11 in /usr/local/lib/python3.7/dist-packages (from newspaper3k) (3.13)\n",
            "Requirement already satisfied: requests>=2.10.0 in /usr/local/lib/python3.7/dist-packages (from newspaper3k) (2.23.0)\n",
            "Collecting cssselect>=0.9.2\n",
            "  Downloading cssselect-1.1.0-py2.py3-none-any.whl (16 kB)\n",
            "Requirement already satisfied: Pillow>=3.3.0 in /usr/local/lib/python3.7/dist-packages (from newspaper3k) (7.1.2)\n",
            "Requirement already satisfied: lxml>=3.6.0 in /usr/local/lib/python3.7/dist-packages (from newspaper3k) (4.2.6)\n",
            "Collecting jieba3k>=0.35.1\n",
            "  Downloading jieba3k-0.35.1.zip (7.4 MB)\n",
            "\u001b[K     |████████████████████████████████| 7.4 MB 52.7 MB/s \n",
            "\u001b[?25hRequirement already satisfied: six in /usr/local/lib/python3.7/dist-packages (from feedfinder2>=0.0.4->newspaper3k) (1.15.0)\n",
            "Collecting sgmllib3k\n",
            "  Downloading sgmllib3k-1.0.0.tar.gz (5.8 kB)\n",
            "Requirement already satisfied: regex>=2021.8.3 in /usr/local/lib/python3.7/dist-packages (from nltk>=3.2.1->newspaper3k) (2022.6.2)\n",
            "Requirement already satisfied: tqdm in /usr/local/lib/python3.7/dist-packages (from nltk>=3.2.1->newspaper3k) (4.64.0)\n",
            "Requirement already satisfied: joblib in /usr/local/lib/python3.7/dist-packages (from nltk>=3.2.1->newspaper3k) (1.1.0)\n",
            "Requirement already satisfied: click in /usr/local/lib/python3.7/dist-packages (from nltk>=3.2.1->newspaper3k) (7.1.2)\n",
            "Requirement already satisfied: chardet<4,>=3.0.2 in /usr/local/lib/python3.7/dist-packages (from requests>=2.10.0->newspaper3k) (3.0.4)\n",
            "Requirement already satisfied: idna<3,>=2.5 in /usr/local/lib/python3.7/dist-packages (from requests>=2.10.0->newspaper3k) (2.10)\n",
            "Requirement already satisfied: certifi>=2017.4.17 in /usr/local/lib/python3.7/dist-packages (from requests>=2.10.0->newspaper3k) (2022.5.18.1)\n",
            "Requirement already satisfied: urllib3!=1.25.0,!=1.25.1,<1.26,>=1.21.1 in /usr/local/lib/python3.7/dist-packages (from requests>=2.10.0->newspaper3k) (1.24.3)\n",
            "Requirement already satisfied: filelock>=3.0.8 in /usr/local/lib/python3.7/dist-packages (from tldextract>=2.0.1->newspaper3k) (3.7.1)\n",
            "Collecting requests-file>=1.4\n",
            "  Downloading requests_file-1.5.1-py2.py3-none-any.whl (3.7 kB)\n",
            "Building wheels for collected packages: tinysegmenter, feedfinder2, jieba3k, sgmllib3k\n",
            "  Building wheel for tinysegmenter (setup.py) ... \u001b[?25l\u001b[?25hdone\n",
            "  Created wheel for tinysegmenter: filename=tinysegmenter-0.3-py3-none-any.whl size=13553 sha256=193d2487fc074193bff342c75ff6cecc17a4341b4714e38e760b7079abf55410\n",
            "  Stored in directory: /root/.cache/pip/wheels/df/67/41/faca10fa501ca010be41b49d40360c2959e1c4f09bcbfa37fa\n",
            "  Building wheel for feedfinder2 (setup.py) ... \u001b[?25l\u001b[?25hdone\n",
            "  Created wheel for feedfinder2: filename=feedfinder2-0.0.4-py3-none-any.whl size=3357 sha256=7d8b835311b88ade142f78277adedff4c0a2502be59e14ad9c0b424734623630\n",
            "  Stored in directory: /root/.cache/pip/wheels/7f/d4/8f/6e2ca54744c9d7292d88ddb8d42876bcdab5e6d84a21c10346\n",
            "  Building wheel for jieba3k (setup.py) ... \u001b[?25l\u001b[?25hdone\n",
            "  Created wheel for jieba3k: filename=jieba3k-0.35.1-py3-none-any.whl size=7398404 sha256=96d33a2048a07b3f3d616bac3183309774080dcb7496691e010aee0f1262df38\n",
            "  Stored in directory: /root/.cache/pip/wheels/4c/91/46/3c208287b726df325a5979574324878b679116e4baae1af3c3\n",
            "  Building wheel for sgmllib3k (setup.py) ... \u001b[?25l\u001b[?25hdone\n",
            "  Created wheel for sgmllib3k: filename=sgmllib3k-1.0.0-py3-none-any.whl size=6066 sha256=ef0ad4f22699819c3b4c6ec2578adda56658c9edc2f10454762f76318a8dfe7b\n",
            "  Stored in directory: /root/.cache/pip/wheels/73/ad/a4/0dff4a6ef231fc0dfa12ffbac2a36cebfdddfe059f50e019aa\n",
            "Successfully built tinysegmenter feedfinder2 jieba3k sgmllib3k\n",
            "Installing collected packages: sgmllib3k, requests-file, tldextract, tinysegmenter, jieba3k, feedparser, feedfinder2, cssselect, newspaper3k\n",
            "Successfully installed cssselect-1.1.0 feedfinder2-0.0.4 feedparser-6.0.10 jieba3k-0.35.1 newspaper3k-0.2.8 requests-file-1.5.1 sgmllib3k-1.0.0 tinysegmenter-0.3 tldextract-3.3.0\n"
          ]
        }
      ]
    },
    {
      "cell_type": "code",
      "source": [
        "#import the packages\n",
        "from newspaper import Article\n",
        "import random\n",
        "import string\n",
        "import numpy as np\n",
        "import warnings\n",
        "import nltk\n",
        "from sklearn.feature_extraction.text import TfidfVectorizer\n",
        "from sklearn.metrics.pairwise import cosine_similarity"
      ],
      "metadata": {
        "id": "YTnEy0gIpFte"
      },
      "execution_count": 3,
      "outputs": []
    },
    {
      "cell_type": "code",
      "source": [
        "\n",
        "#ignore the warnings\n",
        "warnings.filterwarnings('ignore')"
      ],
      "metadata": {
        "id": "8GQUf3tfpGI-"
      },
      "execution_count": 4,
      "outputs": []
    },
    {
      "cell_type": "code",
      "source": [
        "#download package from nltk\n",
        "nltk.download('punkt',quiet=True)\n",
        "nltk.download('wordnet',quiet=True)"
      ],
      "metadata": {
        "colab": {
          "base_uri": "https://localhost:8080/"
        },
        "id": "dkZA6kvJpQ-v",
        "outputId": "42a06fff-a561-4375-e683-f9326045c95d"
      },
      "execution_count": 5,
      "outputs": [
        {
          "output_type": "execute_result",
          "data": {
            "text/plain": [
              "True"
            ]
          },
          "metadata": {},
          "execution_count": 5
        }
      ]
    },
    {
      "cell_type": "code",
      "source": [
        "#get artical url\n",
        "article= Article('https://simple.wikipedia.org/wiki/Light')\n",
        "article.download()\n",
        "article.parse()\n",
        "article.nlp()\n",
        "corpus=article.text\n",
        "#print\n",
        "print(corpus)"
      ],
      "metadata": {
        "colab": {
          "base_uri": "https://localhost:8080/"
        },
        "id": "Vg2DvR1xrLOX",
        "outputId": "8b111d8c-4dcf-43d9-e0c7-b0e0d32a073f"
      },
      "execution_count": 16,
      "outputs": [
        {
          "output_type": "stream",
          "name": "stdout",
          "text": [
            "\"Visible light\" redirects here. For all parts of the electromagnetic spectrum that can be seen by the eye, see Visible spectrum\n",
            "\n",
            "Rays of light shine through metal patterns into a railway station.\n",
            "\n",
            "Light is a form of electromagnetic radiation.\n",
            "\n",
            "It has a wavelength which can be seen by the human eye.[1] Animals can also see light. Light makes up a small part of both the electromagnetic spectrum and radiation given off by stars like the sun. The study of light is known as optics. When light hits an opaque object, it makes a shadow. When light hits a transparent object, it passes through it almost completely without making a shadow.\n",
            "\n",
            "Light is a form of electromagnetic radiation that shows properties of both waves and particles. It is a form of energy. Light also keeps the Earth warm. Light exists in tiny energy packets called photons. Each wave has a wavelength or frequency. The human eye sees each wavelength as a different colour. Rainbows show the entire spectrum of visible light. The separate colours, moving in from the outer edges, are red, orange, yellow, green, blue, indigo and violet. Other colours can be seen only with special cameras or instruments: Wavelengths below the frequency of red are called infrared, and higher than of violet are called ultraviolet.\n",
            "\n",
            "The other main properties of light are intensity, polarization, phase and orbital angular momentum.\n",
            "\n",
            "In physics, the term light sometimes refers to electromagnetic radiation of any wavelength, whether visible or not.[2][3] This article is about visible light. Read the electromagnetic radiation article for the general concept.\n",
            "\n",
            "The main source of light on Earth is the Sun.\n",
            "\n",
            "About light [ change | change source ]\n",
            "\n",
            "Laser beams.\n",
            "\n",
            "In a vacuum, the speed of light is 299,792,458 meters per second,[4] or about 186,282 miles per second. This means it takes about 8 minutes for light to reach Earth from the Sun.[5][6]\n",
            "\n",
            "Light moves in a straight line. It makes shadows when the path of light is blocked. Opaque objects will have a darker shadow, translucent have a lighter shadow, and transparent things will have no or very little shadow. Light can easily move through transparent things. When light is not in a vacuum, it travels slower than the speed of light. The slowest speed of light ever recorded was 39 miles per hour.[7] Our eyes react to light. When we see something, we see the light it reflects, or the light it gives off. For example, a lamp gives off light. Everything else in the room the lamp is in reflects the lamp's light.\n",
            "\n",
            "Every colour of light has a different wavelength. The shorter the wavelength, the more energy the light has. The speed of light does not depend on its energy. Going through translucent objects can slow light down by a very small amount.\n",
            "\n",
            "White light is made up of all the different colours of light added together. When white light shines through a prism, it splits up into different colours, becoming a spectrum. The spectrum contains all of the wavelengths of light that we can see. Red light has the longest wavelength, and violet (purple) light has the shortest.\n",
            "\n",
            "Light with a wavelength shorter than violet is called ultraviolet light. X-rays and gamma rays are forms of light with even shorter wavelengths than ultraviolet. Light with a wavelength longer than red is called infrared light. Radio waves are a form of electromagnetic radiation with a wavelength longer than infrared light. The microwaves that are used to heat food in a microwave oven are also a form of electromagnetic radiation. Our eyes cannot see those kinds of energy, but there are some cameras that can see them. The various forms of light, both visible and invisible are the electromagnetic spectrum.\n",
            "\n",
            "When light is refracted in raindrops, a rainbow is made. The raindrop acts like a prism and refracts the light until we can see the colours of the spectrum.\n",
            "\n",
            "Rainbow in Budapest shows the colors of the visible spectrum.\n",
            "\n",
            "Light and colour are forms of analog information. However, electronic cameras and computer displays work with digital information. Electronic cameras or document scanners make a digital version of a colour image by separating out the full colour image into separate red, green, and blue images. Later, a digital display uses pixels of just those three colours. Computer screens use only these three colours in different brightness levels. The brain puts them together to see all of the other colours in the image.\n",
            "\n",
            "People think of objects as having colour. The colour of objects is because the molecules that make up the object absorb certain light waves, leaving the other light waves to bounce off. The human eye sees the wavelengths of all of the light that was not absorbed. This gives the brain with the impression of a color.\n"
          ]
        }
      ]
    },
    {
      "cell_type": "code",
      "source": [
        "#tokenization\n",
        "text=corpus\n",
        "sent_tokens=nltk.sent_tokenize(text)\n",
        "print(sent_tokens)"
      ],
      "metadata": {
        "colab": {
          "base_uri": "https://localhost:8080/"
        },
        "id": "7cqAbbMrpXaN",
        "outputId": "728bf457-a40a-40b9-c694-5bf6d70dd24c"
      },
      "execution_count": 7,
      "outputs": [
        {
          "output_type": "stream",
          "name": "stdout",
          "text": [
            "['\"Visible light\" redirects here.', 'For all parts of the electromagnetic spectrum that can be seen by the eye, see Visible spectrum\\n\\nRays of light shine through metal patterns into a railway station.', 'Light is a form of electromagnetic radiation.', 'It has a wavelength which can be seen by the human eye.', '[1] Animals can also see light.', 'Light makes up a small part of both the electromagnetic spectrum and radiation given off by stars like the sun.', 'The study of light is known as optics.', 'When light hits an opaque object, it makes a shadow.', 'When light hits a transparent object, it passes through it almost completely without making a shadow.', 'Light is a form of electromagnetic radiation that shows properties of both waves and particles.', 'It is a form of energy.', 'Light also keeps the Earth warm.', 'Light exists in tiny energy packets called photons.', 'Each wave has a wavelength or frequency.', 'The human eye sees each wavelength as a different colour.', 'Rainbows show the entire spectrum of visible light.', 'The separate colours, moving in from the outer edges, are red, orange, yellow, green, blue, indigo and violet.', 'Other colours can be seen only with special cameras or instruments: Wavelengths below the frequency of red are called infrared, and higher than of violet are called ultraviolet.', 'The other main properties of light are intensity, polarization, phase and orbital angular momentum.', 'In physics, the term light sometimes refers to electromagnetic radiation of any wavelength, whether visible or not.', '[2][3] This article is about visible light.', 'Read the electromagnetic radiation article for the general concept.', 'The main source of light on Earth is the Sun.', 'About light [ change | change source ]\\n\\nLaser beams.', 'In a vacuum, the speed of light is 299,792,458 meters per second,[4] or about 186,282 miles per second.', 'This means it takes about 8 minutes for light to reach Earth from the Sun.', '[5][6]\\n\\nLight moves in a straight line.', 'It makes shadows when the path of light is blocked.', 'Opaque objects will have a darker shadow, translucent have a lighter shadow, and transparent things will have no or very little shadow.', 'Light can easily move through transparent things.', 'When light is not in a vacuum, it travels slower than the speed of light.', 'The slowest speed of light ever recorded was 39 miles per hour.', '[7] Our eyes react to light.', 'When we see something, we see the light it reflects, or the light it gives off.', 'For example, a lamp gives off light.', \"Everything else in the room the lamp is in reflects the lamp's light.\", 'Every colour of light has a different wavelength.', 'The shorter the wavelength, the more energy the light has.', 'The speed of light does not depend on its energy.', 'Going through translucent objects can slow light down by a very small amount.', 'White light is made up of all the different colours of light added together.', 'When white light shines through a prism, it splits up into different colours, becoming a spectrum.', 'The spectrum contains all of the wavelengths of light that we can see.', 'Red light has the longest wavelength, and violet (purple) light has the shortest.', 'Light with a wavelength shorter than violet is called ultraviolet light.', 'X-rays and gamma rays are forms of light with even shorter wavelengths than ultraviolet.', 'Light with a wavelength longer than red is called infrared light.', 'Radio waves are a form of electromagnetic radiation with a wavelength longer than infrared light.', 'The microwaves that are used to heat food in a microwave oven are also a form of electromagnetic radiation.', 'Our eyes cannot see those kinds of energy, but there are some cameras that can see them.', 'The various forms of light, both visible and invisible are the electromagnetic spectrum.', 'When light is refracted in raindrops, a rainbow is made.', 'The raindrop acts like a prism and refracts the light until we can see the colours of the spectrum.', 'Rainbow in Budapest shows the colors of the visible spectrum.', 'Light and colour are forms of analog information.', 'However, electronic cameras and computer displays work with digital information.', 'Electronic cameras or document scanners make a digital version of a colour image by separating out the full colour image into separate red, green, and blue images.', 'Later, a digital display uses pixels of just those three colours.', 'Computer screens use only these three colours in different brightness levels.', 'The brain puts them together to see all of the other colours in the image.', 'People think of objects as having colour.', 'The colour of objects is because the molecules that make up the object absorb certain light waves, leaving the other light waves to bounce off.', 'The human eye sees the wavelengths of all of the light that was not absorbed.', 'This gives the brain with the impression of a color.']\n"
          ]
        }
      ]
    },
    {
      "cell_type": "code",
      "source": [
        "#creating a dictionary to remove the punctuation\n",
        "remove_punct_dict=dict( (ord(punct),None) for punct in string.punctuation)\n",
        "print(string.punctuation)\n",
        "print(remove_punct_dict)"
      ],
      "metadata": {
        "colab": {
          "base_uri": "https://localhost:8080/"
        },
        "id": "SLl7Vtw0pXXk",
        "outputId": "e64dafd8-9e10-4ccc-855b-68701ac20180"
      },
      "execution_count": 8,
      "outputs": [
        {
          "output_type": "stream",
          "name": "stdout",
          "text": [
            "!\"#$%&'()*+,-./:;<=>?@[\\]^_`{|}~\n",
            "{33: None, 34: None, 35: None, 36: None, 37: None, 38: None, 39: None, 40: None, 41: None, 42: None, 43: None, 44: None, 45: None, 46: None, 47: None, 58: None, 59: None, 60: None, 61: None, 62: None, 63: None, 64: None, 91: None, 92: None, 93: None, 94: None, 95: None, 96: None, 123: None, 124: None, 125: None, 126: None}\n"
          ]
        }
      ]
    },
    {
      "cell_type": "code",
      "source": [
        "#create a function to return lower case words \n",
        "def LemNormalize(text):\n",
        "  return nltk.word_tokenize(text.lower().translate(remove_punct_dict))\n",
        "print(LemNormalize(text))"
      ],
      "metadata": {
        "colab": {
          "base_uri": "https://localhost:8080/"
        },
        "id": "veEBHW7tpXTc",
        "outputId": "49f5ea10-a6cd-4e2e-d5fc-186cfc5b201b"
      },
      "execution_count": 9,
      "outputs": [
        {
          "output_type": "stream",
          "name": "stdout",
          "text": [
            "['visible', 'light', 'redirects', 'here', 'for', 'all', 'parts', 'of', 'the', 'electromagnetic', 'spectrum', 'that', 'can', 'be', 'seen', 'by', 'the', 'eye', 'see', 'visible', 'spectrum', 'rays', 'of', 'light', 'shine', 'through', 'metal', 'patterns', 'into', 'a', 'railway', 'station', 'light', 'is', 'a', 'form', 'of', 'electromagnetic', 'radiation', 'it', 'has', 'a', 'wavelength', 'which', 'can', 'be', 'seen', 'by', 'the', 'human', 'eye1', 'animals', 'can', 'also', 'see', 'light', 'light', 'makes', 'up', 'a', 'small', 'part', 'of', 'both', 'the', 'electromagnetic', 'spectrum', 'and', 'radiation', 'given', 'off', 'by', 'stars', 'like', 'the', 'sun', 'the', 'study', 'of', 'light', 'is', 'known', 'as', 'optics', 'when', 'light', 'hits', 'an', 'opaque', 'object', 'it', 'makes', 'a', 'shadow', 'when', 'light', 'hits', 'a', 'transparent', 'object', 'it', 'passes', 'through', 'it', 'almost', 'completely', 'without', 'making', 'a', 'shadow', 'light', 'is', 'a', 'form', 'of', 'electromagnetic', 'radiation', 'that', 'shows', 'properties', 'of', 'both', 'waves', 'and', 'particles', 'it', 'is', 'a', 'form', 'of', 'energy', 'light', 'also', 'keeps', 'the', 'earth', 'warm', 'light', 'exists', 'in', 'tiny', 'energy', 'packets', 'called', 'photons', 'each', 'wave', 'has', 'a', 'wavelength', 'or', 'frequency', 'the', 'human', 'eye', 'sees', 'each', 'wavelength', 'as', 'a', 'different', 'colour', 'rainbows', 'show', 'the', 'entire', 'spectrum', 'of', 'visible', 'light', 'the', 'separate', 'colours', 'moving', 'in', 'from', 'the', 'outer', 'edges', 'are', 'red', 'orange', 'yellow', 'green', 'blue', 'indigo', 'and', 'violet', 'other', 'colours', 'can', 'be', 'seen', 'only', 'with', 'special', 'cameras', 'or', 'instruments', 'wavelengths', 'below', 'the', 'frequency', 'of', 'red', 'are', 'called', 'infrared', 'and', 'higher', 'than', 'of', 'violet', 'are', 'called', 'ultraviolet', 'the', 'other', 'main', 'properties', 'of', 'light', 'are', 'intensity', 'polarization', 'phase', 'and', 'orbital', 'angular', 'momentum', 'in', 'physics', 'the', 'term', 'light', 'sometimes', 'refers', 'to', 'electromagnetic', 'radiation', 'of', 'any', 'wavelength', 'whether', 'visible', 'or', 'not23', 'this', 'article', 'is', 'about', 'visible', 'light', 'read', 'the', 'electromagnetic', 'radiation', 'article', 'for', 'the', 'general', 'concept', 'the', 'main', 'source', 'of', 'light', 'on', 'earth', 'is', 'the', 'sun', 'about', 'light', 'change', 'change', 'source', 'laser', 'beams', 'in', 'a', 'vacuum', 'the', 'speed', 'of', 'light', 'is', '299792458', 'meters', 'per', 'second4', 'or', 'about', '186282', 'miles', 'per', 'second', 'this', 'means', 'it', 'takes', 'about', '8', 'minutes', 'for', 'light', 'to', 'reach', 'earth', 'from', 'the', 'sun56', 'light', 'moves', 'in', 'a', 'straight', 'line', 'it', 'makes', 'shadows', 'when', 'the', 'path', 'of', 'light', 'is', 'blocked', 'opaque', 'objects', 'will', 'have', 'a', 'darker', 'shadow', 'translucent', 'have', 'a', 'lighter', 'shadow', 'and', 'transparent', 'things', 'will', 'have', 'no', 'or', 'very', 'little', 'shadow', 'light', 'can', 'easily', 'move', 'through', 'transparent', 'things', 'when', 'light', 'is', 'not', 'in', 'a', 'vacuum', 'it', 'travels', 'slower', 'than', 'the', 'speed', 'of', 'light', 'the', 'slowest', 'speed', 'of', 'light', 'ever', 'recorded', 'was', '39', 'miles', 'per', 'hour7', 'our', 'eyes', 'react', 'to', 'light', 'when', 'we', 'see', 'something', 'we', 'see', 'the', 'light', 'it', 'reflects', 'or', 'the', 'light', 'it', 'gives', 'off', 'for', 'example', 'a', 'lamp', 'gives', 'off', 'light', 'everything', 'else', 'in', 'the', 'room', 'the', 'lamp', 'is', 'in', 'reflects', 'the', 'lamps', 'light', 'every', 'colour', 'of', 'light', 'has', 'a', 'different', 'wavelength', 'the', 'shorter', 'the', 'wavelength', 'the', 'more', 'energy', 'the', 'light', 'has', 'the', 'speed', 'of', 'light', 'does', 'not', 'depend', 'on', 'its', 'energy', 'going', 'through', 'translucent', 'objects', 'can', 'slow', 'light', 'down', 'by', 'a', 'very', 'small', 'amount', 'white', 'light', 'is', 'made', 'up', 'of', 'all', 'the', 'different', 'colours', 'of', 'light', 'added', 'together', 'when', 'white', 'light', 'shines', 'through', 'a', 'prism', 'it', 'splits', 'up', 'into', 'different', 'colours', 'becoming', 'a', 'spectrum', 'the', 'spectrum', 'contains', 'all', 'of', 'the', 'wavelengths', 'of', 'light', 'that', 'we', 'can', 'see', 'red', 'light', 'has', 'the', 'longest', 'wavelength', 'and', 'violet', 'purple', 'light', 'has', 'the', 'shortest', 'light', 'with', 'a', 'wavelength', 'shorter', 'than', 'violet', 'is', 'called', 'ultraviolet', 'light', 'xrays', 'and', 'gamma', 'rays', 'are', 'forms', 'of', 'light', 'with', 'even', 'shorter', 'wavelengths', 'than', 'ultraviolet', 'light', 'with', 'a', 'wavelength', 'longer', 'than', 'red', 'is', 'called', 'infrared', 'light', 'radio', 'waves', 'are', 'a', 'form', 'of', 'electromagnetic', 'radiation', 'with', 'a', 'wavelength', 'longer', 'than', 'infrared', 'light', 'the', 'microwaves', 'that', 'are', 'used', 'to', 'heat', 'food', 'in', 'a', 'microwave', 'oven', 'are', 'also', 'a', 'form', 'of', 'electromagnetic', 'radiation', 'our', 'eyes', 'can', 'not', 'see', 'those', 'kinds', 'of', 'energy', 'but', 'there', 'are', 'some', 'cameras', 'that', 'can', 'see', 'them', 'the', 'various', 'forms', 'of', 'light', 'both', 'visible', 'and', 'invisible', 'are', 'the', 'electromagnetic', 'spectrum', 'when', 'light', 'is', 'refracted', 'in', 'raindrops', 'a', 'rainbow', 'is', 'made', 'the', 'raindrop', 'acts', 'like', 'a', 'prism', 'and', 'refracts', 'the', 'light', 'until', 'we', 'can', 'see', 'the', 'colours', 'of', 'the', 'spectrum', 'rainbow', 'in', 'budapest', 'shows', 'the', 'colors', 'of', 'the', 'visible', 'spectrum', 'light', 'and', 'colour', 'are', 'forms', 'of', 'analog', 'information', 'however', 'electronic', 'cameras', 'and', 'computer', 'displays', 'work', 'with', 'digital', 'information', 'electronic', 'cameras', 'or', 'document', 'scanners', 'make', 'a', 'digital', 'version', 'of', 'a', 'colour', 'image', 'by', 'separating', 'out', 'the', 'full', 'colour', 'image', 'into', 'separate', 'red', 'green', 'and', 'blue', 'images', 'later', 'a', 'digital', 'display', 'uses', 'pixels', 'of', 'just', 'those', 'three', 'colours', 'computer', 'screens', 'use', 'only', 'these', 'three', 'colours', 'in', 'different', 'brightness', 'levels', 'the', 'brain', 'puts', 'them', 'together', 'to', 'see', 'all', 'of', 'the', 'other', 'colours', 'in', 'the', 'image', 'people', 'think', 'of', 'objects', 'as', 'having', 'colour', 'the', 'colour', 'of', 'objects', 'is', 'because', 'the', 'molecules', 'that', 'make', 'up', 'the', 'object', 'absorb', 'certain', 'light', 'waves', 'leaving', 'the', 'other', 'light', 'waves', 'to', 'bounce', 'off', 'the', 'human', 'eye', 'sees', 'the', 'wavelengths', 'of', 'all', 'of', 'the', 'light', 'that', 'was', 'not', 'absorbed', 'this', 'gives', 'the', 'brain', 'with', 'the', 'impression', 'of', 'a', 'color']\n"
          ]
        }
      ]
    },
    {
      "cell_type": "code",
      "source": [
        "\n",
        "#keywords for greetings\n",
        "greeting_input=[\"hi\",\"hello\",\"hey\",\"hola\"]\n",
        "greeting_response=[\"howdy\",\"hey there\",\"hi\",\"hello :)\"]\n",
        "def greeting(sentence):\n",
        "  for word in sentence.split():\n",
        "    if word.lower() in greeting_input:\n",
        "      return random.choice(greeting_response)"
      ],
      "metadata": {
        "id": "xcAjpD-UpXRO"
      },
      "execution_count": 10,
      "outputs": []
    },
    {
      "cell_type": "code",
      "source": [
        "def response(user_response):\n",
        " #user response and robo responce\n",
        "  #user_response=\"WHat is chronic disease\"\n",
        "  user_response=user_response.lower()\n",
        "  #print(user_response)\n",
        "  #robo response\n",
        "  robo_response=''\n",
        "  sent_tokens.append(user_response)\n",
        "  #print(sent_tokens)\n",
        "  tfidfvec=TfidfVectorizer(tokenizer=LemNormalize , stop_words='english')\n",
        "  tfidf=tfidfvec.fit_transform(sent_tokens)\n",
        "  #print(tfidf)\n",
        "  #get similarity score\n",
        "  val=cosine_similarity(tfidf[-1],tfidf)\n",
        "  #print(val)\n",
        "  idx=val.argsort()[0][-2]\n",
        "  flat=val.flatten()\n",
        "  flat.sort()\n",
        "  score=flat[-2]\n",
        "  #print(score)\n",
        "  if score==0:\n",
        "    robo_response=robo_response+\"sorry,i dont understand\"\n",
        "  else:\n",
        "    robo_response=robo_response+sent_tokens[idx]\n",
        "\n",
        "  sent_tokens.remove(user_response)\n",
        "  return robo_response"
      ],
      "metadata": {
        "id": "nOPkr7GQpXHe"
      },
      "execution_count": 11,
      "outputs": []
    },
    {
      "cell_type": "code",
      "source": [
        "greeting_input=[\"hi\",\"hello\",\"hey\",\"hola\"]\n",
        "greeting_response=[\"howdy\",\"hey there\",\"hi\",\"hello :)\"]\n",
        "def greeting(sentence):\n",
        "  for word in sentence.split():\n",
        "    if word.lower() in greeting_input:\n",
        "      return random.choice(greeting_response)\n",
        "flag=True\n",
        "print(\"hello!!! this is madmax,i can answer your queris related to light ,type bye to exit\")\n",
        "while(flag==True):\n",
        "  user_response=input(\"cherry:\")\n",
        "  #user_response=user_response.lower()\n",
        "  if(user_response!='bye'):\n",
        "    if(user_response=='thanks' or user_response=='thank you'):\n",
        "      flag=False\n",
        "      print(\"madmax: anytime :)\")\n",
        "    else:\n",
        "       if( greeting(user_response) != None):\n",
        "         print(\"madmax: \"+ greeting(user_response))\n",
        "       else:\n",
        "         print(\"madmax:\"+response(user_response))\n",
        "  else:\n",
        "    flag=False\n",
        "    print(\"madmax: see you later :)\")"
      ],
      "metadata": {
        "colab": {
          "base_uri": "https://localhost:8080/"
        },
        "id": "sUGzfNPqpW5G",
        "outputId": "47cd2e10-9be0-4e1d-bffc-2ab8f45169f4"
      },
      "execution_count": 12,
      "outputs": [
        {
          "output_type": "stream",
          "name": "stdout",
          "text": [
            "hello!!! this is madmax,i can answer your queris related to light ,type bye to exit\n",
            "cherry:HI\n",
            "madmax: hi\n",
            "cherry:how are u today ?\n",
            "madmax:sorry,i dont understand\n",
            "cherry:what are photons\n",
            "madmax:Light exists in tiny energy packets called photons.\n",
            "cherry:photons are ?\n",
            "madmax:Light exists in tiny energy packets called photons.\n",
            "cherry:can u help me to undrestand photons\n",
            "madmax:Light exists in tiny energy packets called photons.\n",
            "cherry:bye\n",
            "madmax: see you later :)\n"
          ]
        }
      ]
    },
    {
      "cell_type": "code",
      "source": [
        ""
      ],
      "metadata": {
        "id": "6IRz4fBxpord"
      },
      "execution_count": null,
      "outputs": []
    },
    {
      "cell_type": "code",
      "source": [
        ""
      ],
      "metadata": {
        "id": "2BswEjq3popi"
      },
      "execution_count": null,
      "outputs": []
    },
    {
      "cell_type": "code",
      "source": [
        ""
      ],
      "metadata": {
        "id": "HmZdZ-pcpokw"
      },
      "execution_count": null,
      "outputs": []
    },
    {
      "cell_type": "code",
      "source": [
        ""
      ],
      "metadata": {
        "id": "lYbVvUB8pogo"
      },
      "execution_count": null,
      "outputs": []
    }
  ]
}